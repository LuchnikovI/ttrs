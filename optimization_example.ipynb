{
 "cells": [
  {
   "cell_type": "markdown",
   "metadata": {},
   "source": [
    "In this notebook we consider a simple 1d global optimization task accelerated by the Tensor Train (TT).\n",
    "\n",
    "First, one needs to build an encoder, that maps bit strings (indices of a TT) into values in the\n",
    "interval (0, 2) where we are going to search for a maximum modulo value of a function.\n",
    "\n",
    "We also need a TT representation of this encoder. Although, it is easy to build TT representation of this encoder\n",
    "analytically, we will use the TTCross algorithm for simplicity."
   ]
  },
  {
   "cell_type": "code",
   "execution_count": null,
   "metadata": {},
   "outputs": [],
   "source": [
    "import numpy as np\n",
    "from ttrs import TTVc64\n",
    "\n",
    "# It is a number of TT modes (indices)\n",
    "MODES_NUM = 40\n",
    "\n",
    "# this is the encoder function, it converts a bit-string (index of a TT) into a value\n",
    "# from the interval (0, 2)\n",
    "def index2value(index):\n",
    "    if index is None:\n",
    "        return None\n",
    "    else:\n",
    "        weights = 1 / (2 ** np.arange(0, MODES_NUM))\n",
    "        return np.array(np.tensordot(index, weights, axes=1), dtype=np.complex128)\n",
    "\n",
    "# here we build TT representation of this function (we know that its rank is 2\n",
    "# and therefor set maxrank = 2)\n",
    "tt_index2value = TTVc64(MODES_NUM * [2], 2, 0.01)\n",
    "\n",
    "# in this loop we iterate TTCross algorithm;\n",
    "# note, that in order the result be meaningful\n",
    "# number of iterations should be MODES_NUM * N\n",
    "# where N is some integer\n",
    "for _ in range(MODES_NUM * 4):\n",
    "    index = tt_index2value.get_args()\n",
    "    if index is None:\n",
    "        tt_index2value.update(None)\n",
    "    else:\n",
    "        val = index2value(index)\n",
    "        tt_index2value.update(val)"
   ]
  },
  {
   "cell_type": "markdown",
   "metadata": {},
   "source": [
    "Now let us choose a function, that is inconvenient for optimization.\n",
    "In the cell below, we defined and plotted this function.\n",
    "The maximum modulo is achieved for x = 1.23456789, but this value corresponds\n",
    "to a very high peak that usually is difficult to detect."
   ]
  },
  {
   "cell_type": "code",
   "execution_count": null,
   "metadata": {},
   "outputs": [],
   "source": [
    "import matplotlib.pyplot as plt\n",
    "\n",
    "# now let us define a function that we will be studying\n",
    "def weird_function(x):\n",
    "    return np.cos(250 * (x - 1.23456789)) / ((x - 1.23456789) ** 2 + 0.0001) + 500 * (x - 1.23456789) ** 2\n",
    "\n",
    "x = np.linspace(0, 2, 100000)\n",
    "\n",
    "plt.plot(x, weird_function(x))\n",
    "plt.ylabel(\"f(x)\")\n",
    "plt.xlabel(\"x\")\n"
   ]
  },
  {
   "cell_type": "markdown",
   "metadata": {},
   "source": [
    "Let us reconstruct the TT representation of this function. For this purpose we run TTCross\n",
    "with the following parameters: maxrank = 30, number of DMRG sweep = 6. After this, we set the corresponding TT into\n",
    "the left-canonical form and truncate it with accuracy 1e-9."
   ]
  },
  {
   "cell_type": "code",
   "execution_count": null,
   "metadata": {},
   "outputs": [],
   "source": [
    "tt_weird_function = TTVc64(MODES_NUM * [2], 30, 0.01)\n",
    "\n",
    "for _ in range(MODES_NUM * 6):\n",
    "    index = tt_weird_function.get_args()\n",
    "    if index is None:\n",
    "        tt_weird_function.update(None)\n",
    "    else:\n",
    "        val = weird_function(index2value(index))\n",
    "        tt_weird_function.update(val)\n",
    "\n",
    "tt_weird_function.set_into_left_canonical()\n",
    "tt_weird_function.truncate_left_canonical(1e-9)\n",
    "print(\"Bond dimensions:\", tt_weird_function.get_bonds())"
   ]
  },
  {
   "cell_type": "markdown",
   "metadata": {},
   "source": [
    "To find a maximum modulo element we run power iteration, i.e. multiply TT representation of this\n",
    "function many times by itself. After each iteration we set it into the left canonical form and truncate\n",
    "it with accuracy 1e-9 in order to prevent rank explosion. Note, that setting into the left canonical form routine also\n",
    "normalizes a TT by 1."
   ]
  },
  {
   "cell_type": "code",
   "execution_count": null,
   "metadata": {},
   "outputs": [],
   "source": [
    "clone_tt_weird_function = tt_weird_function.get_clone()\n",
    "for _ in range(1000):\n",
    "    tt_weird_function.elementwise_prod(clone_tt_weird_function)\n",
    "    tt_weird_function.set_into_left_canonical()\n",
    "    tt_weird_function.truncate_left_canonical(1e-9)"
   ]
  },
  {
   "cell_type": "markdown",
   "metadata": {},
   "source": [
    "After 1000 power iterations, only close to maximum modulo elements have survived. Let us find the average argument of these elements. It can be done as follows. We take an element wise square of the TT obtained by the power iteration, that is a probability distribution, since the TT is normalized by 1, and then we average argument over this probability distribution simply taking the dot product between the obtained TT after the power iteration and the TT representation of the encoder function."
   ]
  },
  {
   "cell_type": "code",
   "execution_count": null,
   "metadata": {},
   "outputs": [],
   "source": [
    "clone_tt_weird_function = tt_weird_function.get_clone()\n",
    "\n",
    "# now tt_weird_function is a probability distribution\n",
    "tt_weird_function.elementwise_prod(clone_tt_weird_function)\n",
    "\n",
    "# here we calculate the average argmax\n",
    "argmax = np.exp(tt_weird_function.log_dot(tt_index2value))\n",
    "\n",
    "# and this is the corresponding max value\n",
    "max = weird_function(argmax)\n",
    "\n",
    "# And here we print the result, and plot the max point in red\n",
    "\n",
    "print(\"Found argmax: \", argmax.real)\n",
    "print(\"Genuine argmax: \", 1.23456789)\n",
    "\n",
    "x = np.linspace(0, 2, 100000)\n",
    "plt.plot(x, weird_function(x))\n",
    "plt.ylabel(\"f(x)\")\n",
    "plt.xlabel(\"x\")\n",
    "plt.scatter(argmax, max, color='r')"
   ]
  }
 ],
 "metadata": {
  "interpreter": {
   "hash": "ee70d9d2f6a5a00507bb4e0387f77c51527236119cb62164f76d3d05fd708d39"
  },
  "kernelspec": {
   "display_name": "Python 3.10.6 ('venv': venv)",
   "language": "python",
   "name": "python3"
  },
  "language_info": {
   "codemirror_mode": {
    "name": "ipython",
    "version": 3
   },
   "file_extension": ".py",
   "mimetype": "text/x-python",
   "name": "python",
   "nbconvert_exporter": "python",
   "pygments_lexer": "ipython3",
   "version": "3.10.6"
  },
  "orig_nbformat": 4
 },
 "nbformat": 4,
 "nbformat_minor": 2
}
