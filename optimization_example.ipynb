{
 "cells": [
  {
   "cell_type": "markdown",
   "metadata": {},
   "source": [
    "In this notebook we consider a simple 1d global optimization task powered by the Tensor Train (TT).\n",
    "Technically, here we perform a search of the optimal point over 2^40 ones.\n",
    "\n",
    "First, one needs to define an encoder, that maps bit strings (indices of a TT) into values in the\n",
    "interval (0, 2) where we are going to search for a maximum modulo value of a function."
   ]
  },
  {
   "cell_type": "code",
   "execution_count": null,
   "metadata": {},
   "outputs": [],
   "source": [
    "import numpy as np\n",
    "from ttrs import TTVc64\n",
    "\n",
    "# It is a number of TT modes (indices)\n",
    "MODES_NUM = 40\n",
    "\n",
    "# this is the encoder function, it converts a bit-string (index of a TT) into a value\n",
    "# from the interval (0, 2)\n",
    "def encoder(index):\n",
    "    if index is None:\n",
    "        return None\n",
    "    else:\n",
    "        weights = 1 / (2 ** np.arange(0, MODES_NUM))\n",
    "        return np.array(np.tensordot(index, weights, axes=1), dtype=np.complex128)"
   ]
  },
  {
   "cell_type": "markdown",
   "metadata": {},
   "source": [
    "Now let us choose a function, that is inconvenient for optimization.\n",
    "In the cell below, we defined and plotted this function.\n",
    "The maximum modulo is achieved for x = 1.23456789, but this value corresponds\n",
    "to a very high peak that usually is difficult to detect."
   ]
  },
  {
   "cell_type": "code",
   "execution_count": null,
   "metadata": {},
   "outputs": [],
   "source": [
    "import matplotlib.pyplot as plt\n",
    "\n",
    "# now let us define a function that we will be studying\n",
    "def weird_function(x):\n",
    "    return np.cos(250 * (x - 1.23456789)) / ((x - 1.23456789) ** 2 + 0.0001) + 500 * (x - 1.23456789) ** 2\n",
    "\n",
    "x = np.linspace(0, 2, 100000)\n",
    "\n",
    "plt.plot(x, weird_function(x))\n",
    "plt.ylabel(\"f(x)\")\n",
    "plt.xlabel(\"x\")\n"
   ]
  },
  {
   "cell_type": "markdown",
   "metadata": {},
   "source": [
    "Let us reconstruct the TT representation of this function. For this purpose we run TTCross\n",
    "with the following parameters: maxrank = 30, number of DMRG sweep = 6. After this, we set the corresponding TT into\n",
    "the left-canonical form and truncate it with accuracy 1e-9. We also track additional data during TTCross run in order to use them later for optimization."
   ]
  },
  {
   "cell_type": "code",
   "execution_count": null,
   "metadata": {},
   "outputs": [],
   "source": [
    "tt_weird_function = TTVc64(\n",
    "    MODES_NUM * [2], # modes dimensions of a tensor train\n",
    "    20,              # max TT rank\n",
    "    1e-5,            # accuracy of the maxvol algorithm\n",
    "    True             # flag showing if we need to track data for TTOpt method (https://arxiv.org/abs/2205.00293)\n",
    ")\n",
    "\n",
    "for _ in range(MODES_NUM * 6):\n",
    "    index = tt_weird_function.get_args()\n",
    "    if index is None:\n",
    "        tt_weird_function.update(None)\n",
    "    else:\n",
    "        val = weird_function(encoder(index))\n",
    "        tt_weird_function.update(val)\n",
    "\n",
    "tt_weird_function.set_into_left_canonical()\n",
    "tt_weird_function.truncate_left_canonical(1e-10)\n",
    "print(\"Bond dimensions:\", tt_weird_function.get_bonds())"
   ]
  },
  {
   "cell_type": "markdown",
   "metadata": {},
   "source": [
    "To find a maximum modulo element we use two methods. First one combines optimization methods from https://arxiv.org/abs/2101.03377 and https://arxiv.org/abs/2209.14808. Second one is called TTOpt and it is approximate method from https://arxiv.org/abs/2205.00293."
   ]
  },
  {
   "cell_type": "code",
   "execution_count": null,
   "metadata": {},
   "outputs": [],
   "source": [
    "argmax = tt_weird_function.argmax_modulo(\n",
    "    1e-10, # truncation accuracy\n",
    "    1000, # max number of power iterations\n",
    "    20,   # max tt-rank during the power iteration\n",
    "    10,   # hyperparameter K from the paper https://arxiv.org/abs/2209.14808\n",
    ")\n",
    "tt_opt_argmax = tt_weird_function.tt_opt_argmax_module()\n",
    "print(\"Argmax bitsring\", argmax)\n",
    "print(\"TTOpt argmax bitsring\", tt_opt_argmax)"
   ]
  },
  {
   "cell_type": "markdown",
   "metadata": {},
   "source": [
    "Now let as convert the found argmax index of a tensor train into the corresponding argmax argument of a function,\n",
    "using the encoder function and plot the optimization results."
   ]
  },
  {
   "cell_type": "code",
   "execution_count": null,
   "metadata": {},
   "outputs": [],
   "source": [
    "argmax = encoder(argmax)\n",
    "tt_opt_argmax = encoder(tt_opt_argmax)\n",
    "\n",
    "# this is the corresponding max value\n",
    "max = weird_function(argmax)\n",
    "\n",
    "tt_opt_max = weird_function(tt_opt_argmax)\n",
    "\n",
    "# And here we print the result, and plot the max point in red\n",
    "\n",
    "print(\"Found argmax: \", argmax.real)\n",
    "print(\"Found tt_opt argmax: \", tt_opt_argmax.real)\n",
    "print(\"Genuine argmax: \", 1.23456789)\n",
    "print(\"Found maximum: \", weird_function(argmax.real))\n",
    "print(\"Found tt_opt maximum: \", weird_function(tt_opt_argmax.real))\n",
    "print(\"Genuine maximum: \", 10000)\n",
    "\n",
    "x = np.linspace(0, 2, 100000)\n",
    "plt.plot(x, weird_function(x))\n",
    "plt.ylabel(\"f(x)\")\n",
    "plt.xlabel(\"x\")\n",
    "plt.scatter(argmax, max, color='r')\n",
    "plt.scatter(tt_opt_argmax, max, color='b', marker='x')\n",
    "plt.legend([\"Function\", \"First optimization method\", \"TTOpt\"])"
   ]
  }
 ],
 "metadata": {
  "interpreter": {
   "hash": "ee70d9d2f6a5a00507bb4e0387f77c51527236119cb62164f76d3d05fd708d39"
  },
  "kernelspec": {
   "display_name": "Python 3.10.6 ('venv': venv)",
   "language": "python",
   "name": "python3"
  },
  "language_info": {
   "codemirror_mode": {
    "name": "ipython",
    "version": 3
   },
   "file_extension": ".py",
   "mimetype": "text/x-python",
   "name": "python",
   "nbconvert_exporter": "python",
   "pygments_lexer": "ipython3",
   "version": "3.10.6"
  },
  "orig_nbformat": 4
 },
 "nbformat": 4,
 "nbformat_minor": 2
}
